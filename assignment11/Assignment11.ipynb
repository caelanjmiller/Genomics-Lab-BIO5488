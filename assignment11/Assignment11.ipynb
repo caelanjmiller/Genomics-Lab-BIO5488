{
 "cells": [
  {
   "cell_type": "code",
   "execution_count": 1,
   "id": "0e20daa4-747e-4fcf-af41-72a83cca2e93",
   "metadata": {},
   "outputs": [],
   "source": [
    "import pandas as pd\n",
    "import numpy as np\n",
    "from pathlib import Path\n",
    "import os"
   ]
  },
  {
   "cell_type": "code",
   "execution_count": 2,
   "id": "4dbd9a39-390d-4926-aad9-8621cef22dc5",
   "metadata": {},
   "outputs": [],
   "source": [
    "mpsa_data_df = pd.read_csv(\"mpsa_data.csv\")"
   ]
  },
  {
   "cell_type": "code",
   "execution_count": 3,
   "id": "09b03254-4004-4446-9170-2342439e73b2",
   "metadata": {},
   "outputs": [
    {
     "data": {
      "text/html": [
       "<div>\n",
       "<style scoped>\n",
       "    .dataframe tbody tr th:only-of-type {\n",
       "        vertical-align: middle;\n",
       "    }\n",
       "\n",
       "    .dataframe tbody tr th {\n",
       "        vertical-align: top;\n",
       "    }\n",
       "\n",
       "    .dataframe thead th {\n",
       "        text-align: right;\n",
       "    }\n",
       "</style>\n",
       "<table border=\"1\" class=\"dataframe\">\n",
       "  <thead>\n",
       "    <tr style=\"text-align: right;\">\n",
       "      <th></th>\n",
       "      <th>tot_ct</th>\n",
       "      <th>ex_ct</th>\n",
       "      <th>psi</th>\n",
       "      <th>log10_psi</th>\n",
       "      <th>splice_site</th>\n",
       "    </tr>\n",
       "  </thead>\n",
       "  <tbody>\n",
       "    <tr>\n",
       "      <th>0</th>\n",
       "      <td>28</td>\n",
       "      <td>2</td>\n",
       "      <td>1.055374</td>\n",
       "      <td>0.023406</td>\n",
       "      <td>GGAGUGAUG</td>\n",
       "    </tr>\n",
       "    <tr>\n",
       "      <th>1</th>\n",
       "      <td>315</td>\n",
       "      <td>7</td>\n",
       "      <td>0.258277</td>\n",
       "      <td>-0.587914</td>\n",
       "      <td>AGUGUGCAA</td>\n",
       "    </tr>\n",
       "    <tr>\n",
       "      <th>2</th>\n",
       "      <td>193</td>\n",
       "      <td>15</td>\n",
       "      <td>0.841398</td>\n",
       "      <td>-0.074999</td>\n",
       "      <td>UUCGCGCCA</td>\n",
       "    </tr>\n",
       "    <tr>\n",
       "      <th>3</th>\n",
       "      <td>27</td>\n",
       "      <td>0</td>\n",
       "      <td>0.364355</td>\n",
       "      <td>-0.438475</td>\n",
       "      <td>UAAGCUUUU</td>\n",
       "    </tr>\n",
       "    <tr>\n",
       "      <th>4</th>\n",
       "      <td>130</td>\n",
       "      <td>2</td>\n",
       "      <td>0.233632</td>\n",
       "      <td>-0.631467</td>\n",
       "      <td>AUGGUCGGG</td>\n",
       "    </tr>\n",
       "  </tbody>\n",
       "</table>\n",
       "</div>"
      ],
      "text/plain": [
       "   tot_ct  ex_ct       psi  log10_psi splice_site\n",
       "0      28      2  1.055374   0.023406   GGAGUGAUG\n",
       "1     315      7  0.258277  -0.587914   AGUGUGCAA\n",
       "2     193     15  0.841398  -0.074999   UUCGCGCCA\n",
       "3      27      0  0.364355  -0.438475   UAAGCUUUU\n",
       "4     130      2  0.233632  -0.631467   AUGGUCGGG"
      ]
     },
     "execution_count": 3,
     "metadata": {},
     "output_type": "execute_result"
    }
   ],
   "source": [
    "mpsa_data_df.head()"
   ]
  },
  {
   "cell_type": "code",
   "execution_count": 4,
   "id": "16243171-9341-4514-a929-82dad050469e",
   "metadata": {},
   "outputs": [],
   "source": [
    "brca2_mutations: list = [mutation.strip() for mutation in open(Path(\"brca2_mutations.txt\")).readlines()]"
   ]
  },
  {
   "cell_type": "code",
   "execution_count": 7,
   "id": "bb06682f-ebb0-4bd4-951f-f37727b0fa56",
   "metadata": {},
   "outputs": [],
   "source": [
    "def splice_site_coordinate_conversion(splice_site_index: int) -> int:\n",
    "    \"\"\"Convert splice site coordinates into 0-based indexing\"\"\"\n",
    "    if splice_site_index < -3 or splice_site_index > 6:\n",
    "        return None\n",
    "    elif splice_site_index == -3:\n",
    "        return 0\n",
    "    else:\n",
    "        return splice_site_index + 2"
   ]
  },
  {
   "cell_type": "code",
   "execution_count": 13,
   "id": "80cc7fce-1bc0-4585-aa81-01b6dccffa00",
   "metadata": {},
   "outputs": [],
   "source": [
    "def get_decile_index(psi, minimum=0, bin_width=10) -> int:\n",
    "    \"\"\"Returns the decile  for measurements scaled 0 to 100. PSI of\n",
    "    >= 100 is assigned the last decile.\"\"\"\n",
    "    index = int((psi - minimum) // bin_width)\n",
    "    if index > 9:\n",
    "        return 9\n",
    "    else:\n",
    "        return index"
   ]
  },
  {
   "cell_type": "code",
   "execution_count": 10,
   "id": "57de94ba-e200-4f13-b546-e0d85c2cc130",
   "metadata": {},
   "outputs": [],
   "source": [
    "psi_values = mpsa_data_df[\"psi\"].to_list()"
   ]
  },
  {
   "cell_type": "code",
   "execution_count": 11,
   "id": "d0f42bf2-6625-43a8-a4cb-87278aeaead0",
   "metadata": {},
   "outputs": [
    {
     "data": {
      "text/plain": [
       "1.0553741235231964"
      ]
     },
     "execution_count": 11,
     "metadata": {},
     "output_type": "execute_result"
    }
   ],
   "source": [
    "psi_values[0]"
   ]
  },
  {
   "cell_type": "code",
   "execution_count": 14,
   "id": "27f057fa-1a2a-4aaf-8210-090c5b6d8b60",
   "metadata": {},
   "outputs": [],
   "source": [
    "decile_indices: list = [get_decile_index(psi) for psi in psi_values]"
   ]
  },
  {
   "cell_type": "code",
   "execution_count": 19,
   "id": "86b6d147-f2c4-4ad2-9a1f-540892ca8a2f",
   "metadata": {},
   "outputs": [
    {
     "data": {
      "text/plain": [
       "30483"
      ]
     },
     "execution_count": 19,
     "metadata": {},
     "output_type": "execute_result"
    }
   ],
   "source": [
    "len(psi_values)"
   ]
  },
  {
   "cell_type": "code",
   "execution_count": 20,
   "id": "ace8e1ac-41c1-46a5-a87a-c30977e17e4c",
   "metadata": {},
   "outputs": [
    {
     "data": {
      "text/plain": [
       "199.2780872794801"
      ]
     },
     "execution_count": 20,
     "metadata": {},
     "output_type": "execute_result"
    }
   ],
   "source": [
    "max(psi_values)"
   ]
  },
  {
   "cell_type": "code",
   "execution_count": 21,
   "id": "26182783-d72b-4240-b3d6-f5735ab4eacc",
   "metadata": {},
   "outputs": [
    {
     "data": {
      "text/plain": [
       "9"
      ]
     },
     "execution_count": 21,
     "metadata": {},
     "output_type": "execute_result"
    }
   ],
   "source": [
    "max(decile_indices)"
   ]
  },
  {
   "cell_type": "code",
   "execution_count": 22,
   "id": "eb088406-4376-42fe-86e5-9e555ee92af1",
   "metadata": {},
   "outputs": [],
   "source": [
    "from collections import Counter"
   ]
  },
  {
   "cell_type": "code",
   "execution_count": 23,
   "id": "689da215-9afa-4242-907b-e0806931d73b",
   "metadata": {},
   "outputs": [],
   "source": [
    "decile_indices_counter: dict = dict(Counter(decile_indices))"
   ]
  },
  {
   "cell_type": "code",
   "execution_count": 31,
   "id": "d40e6734-eabb-4b17-ac36-98c8d2e952d0",
   "metadata": {},
   "outputs": [
    {
     "data": {
      "text/plain": [
       "{0: 28992, 1: 235, 2: 131, 3: 103, 4: 86, 5: 83, 6: 94, 7: 112, 8: 139, 9: 508}"
      ]
     },
     "execution_count": 31,
     "metadata": {},
     "output_type": "execute_result"
    }
   ],
   "source": [
    "dict(sorted(decile_indices_counter.items()))"
   ]
  },
  {
   "cell_type": "code",
   "execution_count": 25,
   "id": "08e69d7a-0521-4320-ad6e-203c050beb83",
   "metadata": {},
   "outputs": [],
   "source": [
    "import seaborn as sns\n",
    "import matplotlib.pyplot as plt"
   ]
  },
  {
   "cell_type": "code",
   "execution_count": 27,
   "id": "5331179a-0472-4294-9136-b36588737729",
   "metadata": {},
   "outputs": [
    {
     "data": {
      "text/plain": [
       "Text(0, 0.5, 'Count')"
      ]
     },
     "execution_count": 27,
     "metadata": {},
     "output_type": "execute_result"
    },
    {
     "data": {
      "image/png": "[encoded data removed]",
      "text/plain": [
       "<Figure size 640x480 with 1 Axes>"
      ]
     },
     "metadata": {},
     "output_type": "display_data"
    }
   ],
   "source": [
    "plt.bar(decile_indices_counter.keys(), decile_indices_counter.values())\n",
    "plt.title(\"PSI Distribution\")\n",
    "plt.xlabel(\"Decile\")\n",
    "plt.ylabel(\"Count\")"
   ]
  },
  {
   "cell_type": "code",
   "execution_count": null,
   "id": "e7d1047e-9ca4-4da9-a00e-5278fdfa104d",
   "metadata": {},
   "outputs": [],
   "source": []
  }
 ],
 "metadata": {
  "kernelspec": {
   "display_name": "Python 3 (ipykernel)",
   "language": "python",
   "name": "python3"
  },
  "language_info": {
   "codemirror_mode": {
    "name": "ipython",
    "version": 3
   },
   "file_extension": ".py",
   "mimetype": "text/x-python",
   "name": "python",
   "nbconvert_exporter": "python",
   "pygments_lexer": "ipython3",
   "version": "3.12.1"
  }
 },
 "nbformat": 4,
 "nbformat_minor": 5
}
