{
 "cells": [
  {
   "cell_type": "code",
   "execution_count": 1,
   "id": "0e20daa4-747e-4fcf-af41-72a83cca2e93",
   "metadata": {},
   "outputs": [],
   "source": [
    "import pandas as pd\n",
    "import numpy as np\n",
    "from pathlib import Path\n",
    "import os"
   ]
  },
  {
   "cell_type": "code",
   "execution_count": 2,
   "id": "4dbd9a39-390d-4926-aad9-8621cef22dc5",
   "metadata": {},
   "outputs": [],
   "source": [
    "mpsa_data_df = pd.read_csv(\"mpsa_data.csv\")"
   ]
  },
  {
   "cell_type": "code",
   "execution_count": 3,
   "id": "09b03254-4004-4446-9170-2342439e73b2",
   "metadata": {},
   "outputs": [
    {
     "data": {
      "text/html": [
       "<div>\n",
       "<style scoped>\n",
       "    .dataframe tbody tr th:only-of-type {\n",
       "        vertical-align: middle;\n",
       "    }\n",
       "\n",
       "    .dataframe tbody tr th {\n",
       "        vertical-align: top;\n",
       "    }\n",
       "\n",
       "    .dataframe thead th {\n",
       "        text-align: right;\n",
       "    }\n",
       "</style>\n",
       "<table border=\"1\" class=\"dataframe\">\n",
       "  <thead>\n",
       "    <tr style=\"text-align: right;\">\n",
       "      <th></th>\n",
       "      <th>tot_ct</th>\n",
       "      <th>ex_ct</th>\n",
       "      <th>psi</th>\n",
       "      <th>log10_psi</th>\n",
       "      <th>splice_site</th>\n",
       "    </tr>\n",
       "  </thead>\n",
       "  <tbody>\n",
       "    <tr>\n",
       "      <th>0</th>\n",
       "      <td>28</td>\n",
       "      <td>2</td>\n",
       "      <td>1.055374</td>\n",
       "      <td>0.023406</td>\n",
       "      <td>GGAGUGAUG</td>\n",
       "    </tr>\n",
       "    <tr>\n",
       "      <th>1</th>\n",
       "      <td>315</td>\n",
       "      <td>7</td>\n",
       "      <td>0.258277</td>\n",
       "      <td>-0.587914</td>\n",
       "      <td>AGUGUGCAA</td>\n",
       "    </tr>\n",
       "    <tr>\n",
       "      <th>2</th>\n",
       "      <td>193</td>\n",
       "      <td>15</td>\n",
       "      <td>0.841398</td>\n",
       "      <td>-0.074999</td>\n",
       "      <td>UUCGCGCCA</td>\n",
       "    </tr>\n",
       "    <tr>\n",
       "      <th>3</th>\n",
       "      <td>27</td>\n",
       "      <td>0</td>\n",
       "      <td>0.364355</td>\n",
       "      <td>-0.438475</td>\n",
       "      <td>UAAGCUUUU</td>\n",
       "    </tr>\n",
       "    <tr>\n",
       "      <th>4</th>\n",
       "      <td>130</td>\n",
       "      <td>2</td>\n",
       "      <td>0.233632</td>\n",
       "      <td>-0.631467</td>\n",
       "      <td>AUGGUCGGG</td>\n",
       "    </tr>\n",
       "  </tbody>\n",
       "</table>\n",
       "</div>"
      ],
      "text/plain": [
       "   tot_ct  ex_ct       psi  log10_psi splice_site\n",
       "0      28      2  1.055374   0.023406   GGAGUGAUG\n",
       "1     315      7  0.258277  -0.587914   AGUGUGCAA\n",
       "2     193     15  0.841398  -0.074999   UUCGCGCCA\n",
       "3      27      0  0.364355  -0.438475   UAAGCUUUU\n",
       "4     130      2  0.233632  -0.631467   AUGGUCGGG"
      ]
     },
     "execution_count": 3,
     "metadata": {},
     "output_type": "execute_result"
    }
   ],
   "source": [
    "mpsa_data_df.head()"
   ]
  },
  {
   "cell_type": "code",
   "execution_count": 4,
   "id": "16243171-9341-4514-a929-82dad050469e",
   "metadata": {},
   "outputs": [],
   "source": [
    "brca2_mutations: list = [mutation.strip() for mutation in open(Path(\"brca2_mutations.txt\")).readlines()]"
   ]
  },
  {
   "cell_type": "code",
   "execution_count": 5,
   "id": "bb06682f-ebb0-4bd4-951f-f37727b0fa56",
   "metadata": {},
   "outputs": [],
   "source": [
    "def splice_site_coordinate_conversion(splice_site_index: int) -> int:\n",
    "    \"\"\"Convert splice site coordinates into 0-based indexing\"\"\"\n",
    "    if splice_site_index < -3 or splice_site_index > 6:\n",
    "        return None\n",
    "    elif splice_site_index == -3:\n",
    "        return 0\n",
    "    else:\n",
    "        return splice_site_index + 2"
   ]
  },
  {
   "cell_type": "code",
   "execution_count": 6,
   "id": "80cc7fce-1bc0-4585-aa81-01b6dccffa00",
   "metadata": {},
   "outputs": [],
   "source": [
    "def get_decile_index(psi, minimum=0, bin_width=10) -> int:\n",
    "    \"\"\"Returns the decile  for measurements scaled 0 to 100. PSI of\n",
    "    >= 100 is assigned the last decile.\"\"\"\n",
    "    index = int((psi - minimum) // bin_width)\n",
    "    if index > 9:\n",
    "        return 9\n",
    "    else:\n",
    "        return index"
   ]
  },
  {
   "cell_type": "code",
   "execution_count": 7,
   "id": "57de94ba-e200-4f13-b546-e0d85c2cc130",
   "metadata": {},
   "outputs": [],
   "source": [
    "psi_values = mpsa_data_df[\"psi\"].to_list()"
   ]
  },
  {
   "cell_type": "code",
   "execution_count": 8,
   "id": "d0f42bf2-6625-43a8-a4cb-87278aeaead0",
   "metadata": {},
   "outputs": [
    {
     "data": {
      "text/plain": [
       "1.0553741235231964"
      ]
     },
     "execution_count": 8,
     "metadata": {},
     "output_type": "execute_result"
    }
   ],
   "source": [
    "psi_values[0]"
   ]
  },
  {
   "cell_type": "code",
   "execution_count": 9,
   "id": "27f057fa-1a2a-4aaf-8210-090c5b6d8b60",
   "metadata": {},
   "outputs": [],
   "source": [
    "decile_indices: list = [get_decile_index(psi) for psi in psi_values]"
   ]
  },
  {
   "cell_type": "code",
   "execution_count": 10,
   "id": "86b6d147-f2c4-4ad2-9a1f-540892ca8a2f",
   "metadata": {},
   "outputs": [
    {
     "data": {
      "text/plain": [
       "30483"
      ]
     },
     "execution_count": 10,
     "metadata": {},
     "output_type": "execute_result"
    }
   ],
   "source": [
    "len(psi_values)"
   ]
  },
  {
   "cell_type": "code",
   "execution_count": 11,
   "id": "ace8e1ac-41c1-46a5-a87a-c30977e17e4c",
   "metadata": {},
   "outputs": [
    {
     "data": {
      "text/plain": [
       "199.2780872794801"
      ]
     },
     "execution_count": 11,
     "metadata": {},
     "output_type": "execute_result"
    }
   ],
   "source": [
    "max(psi_values)"
   ]
  },
  {
   "cell_type": "code",
   "execution_count": 12,
   "id": "26182783-d72b-4240-b3d6-f5735ab4eacc",
   "metadata": {},
   "outputs": [
    {
     "data": {
      "text/plain": [
       "9"
      ]
     },
     "execution_count": 12,
     "metadata": {},
     "output_type": "execute_result"
    }
   ],
   "source": [
    "max(decile_indices)"
   ]
  },
  {
   "cell_type": "code",
   "execution_count": 13,
   "id": "eb088406-4376-42fe-86e5-9e555ee92af1",
   "metadata": {},
   "outputs": [],
   "source": [
    "from collections import Counter"
   ]
  },
  {
   "cell_type": "code",
   "execution_count": 14,
   "id": "689da215-9afa-4242-907b-e0806931d73b",
   "metadata": {},
   "outputs": [],
   "source": [
    "decile_indices_counter: dict = dict(Counter(decile_indices))"
   ]
  },
  {
   "cell_type": "code",
   "execution_count": 15,
   "id": "d40e6734-eabb-4b17-ac36-98c8d2e952d0",
   "metadata": {},
   "outputs": [
    {
     "data": {
      "text/plain": [
       "{0: 28992, 1: 235, 2: 131, 3: 103, 4: 86, 5: 83, 6: 94, 7: 112, 8: 139, 9: 508}"
      ]
     },
     "execution_count": 15,
     "metadata": {},
     "output_type": "execute_result"
    }
   ],
   "source": [
    "dict(sorted(decile_indices_counter.items()))"
   ]
  },
  {
   "cell_type": "code",
   "execution_count": 16,
   "id": "08e69d7a-0521-4320-ad6e-203c050beb83",
   "metadata": {},
   "outputs": [],
   "source": [
    "import seaborn as sns\n",
    "import matplotlib.pyplot as plt"
   ]
  },
  {
   "cell_type": "code",
   "execution_count": 17,
   "id": "5331179a-0472-4294-9136-b36588737729",
   "metadata": {},
   "outputs": [
    {
     "data": {
      "text/plain": [
       "Text(0, 0.5, 'Count')"
      ]
     },
     "execution_count": 17,
     "metadata": {},
     "output_type": "execute_result"
    },
    {
     "data": {
      "image/png": "[encoded data removed]",
      "text/plain": [
       "<Figure size 640x480 with 1 Axes>"
      ]
     },
     "metadata": {},
     "output_type": "display_data"
    }
   ],
   "source": [
    "plt.bar(decile_indices_counter.keys(), decile_indices_counter.values())\n",
    "plt.title(\"PSI Distribution\")\n",
    "plt.xlabel(\"Decile\")\n",
    "plt.ylabel(\"Count\")"
   ]
  },
  {
   "cell_type": "code",
   "execution_count": 18,
   "id": "e7d1047e-9ca4-4da9-a00e-5278fdfa104d",
   "metadata": {},
   "outputs": [
    {
     "data": {
      "text/html": [
       "<div>\n",
       "<style scoped>\n",
       "    .dataframe tbody tr th:only-of-type {\n",
       "        vertical-align: middle;\n",
       "    }\n",
       "\n",
       "    .dataframe tbody tr th {\n",
       "        vertical-align: top;\n",
       "    }\n",
       "\n",
       "    .dataframe thead th {\n",
       "        text-align: right;\n",
       "    }\n",
       "</style>\n",
       "<table border=\"1\" class=\"dataframe\">\n",
       "  <thead>\n",
       "    <tr style=\"text-align: right;\">\n",
       "      <th></th>\n",
       "      <th>tot_ct</th>\n",
       "      <th>ex_ct</th>\n",
       "      <th>psi</th>\n",
       "      <th>log10_psi</th>\n",
       "      <th>splice_site</th>\n",
       "    </tr>\n",
       "  </thead>\n",
       "  <tbody>\n",
       "    <tr>\n",
       "      <th>0</th>\n",
       "      <td>28</td>\n",
       "      <td>2</td>\n",
       "      <td>1.055374</td>\n",
       "      <td>0.023406</td>\n",
       "      <td>GGAGUGAUG</td>\n",
       "    </tr>\n",
       "    <tr>\n",
       "      <th>1</th>\n",
       "      <td>315</td>\n",
       "      <td>7</td>\n",
       "      <td>0.258277</td>\n",
       "      <td>-0.587914</td>\n",
       "      <td>AGUGUGCAA</td>\n",
       "    </tr>\n",
       "    <tr>\n",
       "      <th>2</th>\n",
       "      <td>193</td>\n",
       "      <td>15</td>\n",
       "      <td>0.841398</td>\n",
       "      <td>-0.074999</td>\n",
       "      <td>UUCGCGCCA</td>\n",
       "    </tr>\n",
       "    <tr>\n",
       "      <th>3</th>\n",
       "      <td>27</td>\n",
       "      <td>0</td>\n",
       "      <td>0.364355</td>\n",
       "      <td>-0.438475</td>\n",
       "      <td>UAAGCUUUU</td>\n",
       "    </tr>\n",
       "    <tr>\n",
       "      <th>4</th>\n",
       "      <td>130</td>\n",
       "      <td>2</td>\n",
       "      <td>0.233632</td>\n",
       "      <td>-0.631467</td>\n",
       "      <td>AUGGUCGGG</td>\n",
       "    </tr>\n",
       "  </tbody>\n",
       "</table>\n",
       "</div>"
      ],
      "text/plain": [
       "   tot_ct  ex_ct       psi  log10_psi splice_site\n",
       "0      28      2  1.055374   0.023406   GGAGUGAUG\n",
       "1     315      7  0.258277  -0.587914   AGUGUGCAA\n",
       "2     193     15  0.841398  -0.074999   UUCGCGCCA\n",
       "3      27      0  0.364355  -0.438475   UAAGCUUUU\n",
       "4     130      2  0.233632  -0.631467   AUGGUCGGG"
      ]
     },
     "execution_count": 18,
     "metadata": {},
     "output_type": "execute_result"
    }
   ],
   "source": [
    "mpsa_data_df.head()"
   ]
  },
  {
   "cell_type": "code",
   "execution_count": 45,
   "id": "8ccee6b5-0d1f-408e-acb8-2b3b7e8da1b7",
   "metadata": {},
   "outputs": [
    {
     "data": {
      "text/plain": [
       "30483"
      ]
     },
     "execution_count": 45,
     "metadata": {},
     "output_type": "execute_result"
    }
   ],
   "source": [
    "len(mpsa_data_df[\"splice_site\"])"
   ]
  },
  {
   "cell_type": "code",
   "execution_count": 46,
   "id": "be207263-59ee-4e51-96ea-cf40c088a250",
   "metadata": {},
   "outputs": [
    {
     "data": {
      "text/plain": [
       "30483"
      ]
     },
     "execution_count": 46,
     "metadata": {},
     "output_type": "execute_result"
    }
   ],
   "source": [
    "len(mpsa_data_dict.keys())"
   ]
  },
  {
   "cell_type": "code",
   "execution_count": 43,
   "id": "1b7cef38-22fe-4b2e-a664-4eac40a5be8c",
   "metadata": {},
   "outputs": [],
   "source": [
    "mpsa_data_dict: dict = dict(zip(mpsa_data_df[\"splice_site\"], mpsa_data_df[\"psi\"]))"
   ]
  },
  {
   "cell_type": "code",
   "execution_count": 47,
   "id": "153940e7-c131-4029-b4ed-f22ba99fd182",
   "metadata": {},
   "outputs": [],
   "source": [
    "gc_splice_site_psi: dict = {}\n",
    "for splice_site, psi in mpsa_data_dict.items():\n",
    "    position_one: int = splice_site_coordinate_conversion(1)\n",
    "    position_two: int = splice_site_coordinate_conversion(2)\n",
    "    if splice_site[position_one:position_two + 1] == \"GC\":\n",
    "        gc_splice_site_psi[splice_site] = psi\n",
    "    else:\n",
    "        continue"
   ]
  },
  {
   "cell_type": "code",
   "execution_count": 48,
   "id": "7a3ddb58-dde3-4f46-8039-27f78fc7b2f8",
   "metadata": {},
   "outputs": [
    {
     "data": {
      "text/plain": [
       "15414"
      ]
     },
     "execution_count": 48,
     "metadata": {},
     "output_type": "execute_result"
    }
   ],
   "source": [
    "len(gc_splice_site_psi.keys())"
   ]
  },
  {
   "cell_type": "code",
   "execution_count": 49,
   "id": "22620965-89ba-4fe1-a903-344b284d63c9",
   "metadata": {},
   "outputs": [],
   "source": [
    "gc_splice_site_psi_values: list = list(gc_splice_site_psi.values())"
   ]
  },
  {
   "cell_type": "code",
   "execution_count": 55,
   "id": "295fe039-e808-4e03-b89f-539fcc6cfc73",
   "metadata": {},
   "outputs": [],
   "source": [
    "top_decile_gc_splice_site_sequences: list = []\n",
    "for splice_site, psi in gc_splice_site_psi.items():\n",
    "    decile_index: int = get_decile_index(psi)\n",
    "    if decile_index == 9:\n",
    "        top_decile_gc_splice_site_sequences.append(splice_site)\n",
    "    else:\n",
    "        continue"
   ]
  },
  {
   "cell_type": "code",
   "execution_count": 56,
   "id": "96e9d2cd-ba5a-4de8-b094-fadc7b26fa1c",
   "metadata": {},
   "outputs": [
    {
     "data": {
      "text/plain": [
       "['GGUGCGUAC',\n",
       " 'GGUGCGUAA',\n",
       " 'GGUGCGUGU',\n",
       " 'GGUGCGUGC',\n",
       " 'AAGGCAAGU',\n",
       " 'ACGGCAAGU',\n",
       " 'GGUGCGGAU',\n",
       " 'GGUGCGUUG',\n",
       " 'GGUGCGUGA',\n",
       " 'CAGGCAAGU',\n",
       " 'GGUGCGUUA',\n",
       " 'GGUGCGUAU',\n",
       " 'GGUGCGUCA',\n",
       " 'GGUGCGUUC',\n",
       " 'GGUGCGUCU',\n",
       " 'GGUGCGCGC',\n",
       " 'CAGGCGAGU',\n",
       " 'GAGGCAAGU',\n",
       " 'CGUGCGUAC',\n",
       " 'GGUGCGGUA']"
      ]
     },
     "execution_count": 56,
     "metadata": {},
     "output_type": "execute_result"
    }
   ],
   "source": [
    "top_decile_gc_splice_site_sequences"
   ]
  },
  {
   "cell_type": "code",
   "execution_count": 57,
   "id": "fa3b39ad-f84e-48e4-895f-10a2c7a90d80",
   "metadata": {},
   "outputs": [
    {
     "data": {
      "text/plain": [
       "20"
      ]
     },
     "execution_count": 57,
     "metadata": {},
     "output_type": "execute_result"
    }
   ],
   "source": [
    "len(top_decile_gc_splice_site_sequences)"
   ]
  },
  {
   "cell_type": "code",
   "execution_count": 59,
   "id": "6aa7ad5e-febe-41a8-9102-72ace228e8ee",
   "metadata": {},
   "outputs": [
    {
     "name": "stdout",
     "output_type": "stream",
     "text": [
      "Fraction of top decile GC sequences that have G's at both -1 & +5 positions: 0.2\n"
     ]
    }
   ],
   "source": [
    "gc_have_gg_counter: int = 0\n",
    "for sequence in top_decile_gc_splice_site_sequences:\n",
    "    position_one: int = splice_site_coordinate_conversion(-1)\n",
    "    position_two: int = splice_site_coordinate_conversion(+5)\n",
    "    if sequence[position_one] == 'G' and sequence[position_two] == 'G':\n",
    "        gc_have_gg_counter += 1\n",
    "    else:\n",
    "        continue\n",
    "print(f\"Fraction of top decile GC sequences that have G's at both -1 & +5 positions: {round(float(gc_have_gg_counter / len(top_decile_gc_splice_site_sequences)), 4)}\")"
   ]
  },
  {
   "cell_type": "code",
   "execution_count": 50,
   "id": "e1d683cd-4026-4432-8339-30b7acce6647",
   "metadata": {},
   "outputs": [],
   "source": [
    "gc_splice_site_decile_indices: list = [get_decile_index(psi) for psi in gc_splice_site_psi_values]"
   ]
  },
  {
   "cell_type": "code",
   "execution_count": 51,
   "id": "affa2a22-c3af-492f-a730-7d737d0e7de5",
   "metadata": {},
   "outputs": [],
   "source": [
    "gc_splice_decile_indices_counter: dict = dict(Counter(gc_splice_site_decile_indices))"
   ]
  },
  {
   "cell_type": "code",
   "execution_count": 52,
   "id": "cd8ad261-aa20-4fac-bcb3-1884e5af6969",
   "metadata": {},
   "outputs": [
    {
     "data": {
      "text/plain": [
       "{0: 15291, 1: 25, 2: 11, 3: 12, 4: 15, 5: 13, 6: 13, 7: 7, 8: 7, 9: 20}"
      ]
     },
     "execution_count": 52,
     "metadata": {},
     "output_type": "execute_result"
    }
   ],
   "source": [
    "dict(sorted(gc_splice_decile_indices_counter.items()))"
   ]
  },
  {
   "cell_type": "code",
   "execution_count": 54,
   "id": "5562764d-eb59-484f-b096-2543bdc2a98a",
   "metadata": {},
   "outputs": [
    {
     "data": {
      "text/plain": [
       "Text(0, 0.5, 'Count')"
      ]
     },
     "execution_count": 54,
     "metadata": {},
     "output_type": "execute_result"
    },
    {
     "data": {
      "image/png": "[encoded data removed]",
      "text/plain": [
       "<Figure size 640x480 with 1 Axes>"
      ]
     },
     "metadata": {},
     "output_type": "display_data"
    }
   ],
   "source": [
    "plt.bar(gc_splice_decile_indices_counter.keys(), gc_splice_decile_indices_counter.values())\n",
    "plt.title(\"Non-Canonical GC Splice Site PSI Distribution\")\n",
    "plt.xlabel(\"Decile\")\n",
    "plt.ylabel(\"Count\")"
   ]
  },
  {
   "cell_type": "code",
   "execution_count": 37,
   "id": "2a59dc57-ae0c-46a0-a436-7e68f064e452",
   "metadata": {},
   "outputs": [],
   "source": [
    "brca2_filtered_mutations_df = mpsa_data_df[mpsa_data_df[\"splice_site\"].isin(brca2_mutations)]"
   ]
  },
  {
   "cell_type": "code",
   "execution_count": 38,
   "id": "a0d8de89-7302-4d76-9210-289feb28c58e",
   "metadata": {},
   "outputs": [],
   "source": [
    "brca2_psi_values = brca2_filtered_mutations_df[\"psi\"].to_list()"
   ]
  },
  {
   "cell_type": "code",
   "execution_count": 39,
   "id": "e15ae6cc-3291-4770-b983-0b52df4a5e0c",
   "metadata": {},
   "outputs": [],
   "source": [
    "brca2_decile_indices: list = [get_decile_index(psi) for psi in brca2_psi_values]"
   ]
  },
  {
   "cell_type": "code",
   "execution_count": 40,
   "id": "1f235707-790f-4b9b-9887-369a3d231a9f",
   "metadata": {},
   "outputs": [],
   "source": [
    "brca2_decile_indices_counter: dict = dict(Counter(brca2_decile_indices))"
   ]
  },
  {
   "cell_type": "code",
   "execution_count": 41,
   "id": "860a0a4e-6fd2-443e-8630-9bf1a6ad44bf",
   "metadata": {},
   "outputs": [
    {
     "data": {
      "text/plain": [
       "{0: 21, 1: 2, 2: 1, 3: 3, 4: 2, 6: 1, 7: 1, 8: 3, 9: 7}"
      ]
     },
     "execution_count": 41,
     "metadata": {},
     "output_type": "execute_result"
    }
   ],
   "source": [
    "dict(sorted(brca2_decile_indices_counter.items()))"
   ]
  },
  {
   "cell_type": "code",
   "execution_count": 42,
   "id": "b75f188e-e5c8-490e-bd09-e6964c31dcd4",
   "metadata": {},
   "outputs": [
    {
     "data": {
      "text/plain": [
       "Text(0, 0.5, 'Count')"
      ]
     },
     "execution_count": 42,
     "metadata": {},
     "output_type": "execute_result"
    },
    {
     "data": {
      "image/png": "[encoded data removed]",
      "text/plain": [
       "<Figure size 640x480 with 1 Axes>"
      ]
     },
     "metadata": {},
     "output_type": "display_data"
    }
   ],
   "source": [
    "plt.bar(brca2_decile_indices_counter.keys(), brca2_decile_indices_counter.values())\n",
    "plt.title(\"BRCA2 Mutation PSI Distribution\")\n",
    "plt.xlabel(\"Decile\")\n",
    "plt.ylabel(\"Count\")"
   ]
  },
  {
   "cell_type": "code",
   "execution_count": null,
   "id": "c7d5dd98-c64a-42fc-813d-718a79c61bf9",
   "metadata": {},
   "outputs": [],
   "source": []
  }
 ],
 "metadata": {
  "kernelspec": {
   "display_name": "Python 3 (ipykernel)",
   "language": "python",
   "name": "python3"
  },
  "language_info": {
   "codemirror_mode": {
    "name": "ipython",
    "version": 3
   },
   "file_extension": ".py",
   "mimetype": "text/x-python",
   "name": "python",
   "nbconvert_exporter": "python",
   "pygments_lexer": "ipython3",
   "version": "3.12.1"
  }
 },
 "nbformat": 4,
 "nbformat_minor": 5
}
