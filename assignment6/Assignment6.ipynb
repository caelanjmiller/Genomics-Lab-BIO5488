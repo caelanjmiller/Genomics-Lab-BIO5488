{
 "cells": [
  {
   "cell_type": "code",
   "execution_count": 1,
   "id": "59941735-2c57-4e6f-b15b-8e3315646ec0",
   "metadata": {},
   "outputs": [],
   "source": [
    "import pandas as pd\n",
    "import numpy as np"
   ]
  },
  {
   "cell_type": "code",
   "execution_count": 5,
   "id": "813c7c9d-911c-4501-a78c-d421aa95d08a",
   "metadata": {},
   "outputs": [
    {
     "data": {
      "text/html": [
       "<div>\n",
       "<style scoped>\n",
       "    .dataframe tbody tr th:only-of-type {\n",
       "        vertical-align: middle;\n",
       "    }\n",
       "\n",
       "    .dataframe tbody tr th {\n",
       "        vertical-align: top;\n",
       "    }\n",
       "\n",
       "    .dataframe thead th {\n",
       "        text-align: right;\n",
       "    }\n",
       "</style>\n",
       "<table border=\"1\" class=\"dataframe\">\n",
       "  <thead>\n",
       "    <tr style=\"text-align: right;\">\n",
       "      <th></th>\n",
       "      <th>TAD_name</th>\n",
       "      <th>start</th>\n",
       "      <th>end</th>\n",
       "    </tr>\n",
       "  </thead>\n",
       "  <tbody>\n",
       "    <tr>\n",
       "      <th>0</th>\n",
       "      <td>TAD1</td>\n",
       "      <td>58550000</td>\n",
       "      <td>59800000</td>\n",
       "    </tr>\n",
       "    <tr>\n",
       "      <th>1</th>\n",
       "      <td>TAD2</td>\n",
       "      <td>59850000</td>\n",
       "      <td>60450000</td>\n",
       "    </tr>\n",
       "  </tbody>\n",
       "</table>\n",
       "</div>"
      ],
      "text/plain": [
       "  TAD_name     start       end\n",
       "0     TAD1  58550000  59800000\n",
       "1     TAD2  59850000  60450000"
      ]
     },
     "execution_count": 5,
     "metadata": {},
     "output_type": "execute_result"
    }
   ],
   "source": [
    "tads_df = pd.read_csv(\"TADS.csv\", header=0)\n",
    "tads_df.head()"
   ]
  },
  {
   "cell_type": "code",
   "execution_count": 8,
   "id": "c5cd9e09-dfd0-4585-b874-311ed5ae63ea",
   "metadata": {},
   "outputs": [
    {
     "data": {
      "text/plain": [
       "array([58200000., 58250000., 58300000., 58350000., 58400000., 58450000.,\n",
       "       58500000., 58550000., 58600000., 58650000., 58700000., 58750000.,\n",
       "       58800000., 58850000., 58900000., 58950000., 59000000., 59050000.,\n",
       "       59100000., 59150000., 59200000., 59250000., 59300000., 59350000.,\n",
       "       59400000., 59450000., 59500000., 59550000., 59600000., 59650000.,\n",
       "       59700000., 59750000., 59800000., 59850000., 59900000., 59950000.,\n",
       "       60000000., 60050000., 60100000., 60150000., 60200000., 60250000.,\n",
       "       60300000., 60350000., 60400000., 60450000., 60500000., 60550000.,\n",
       "       60600000., 60650000., 60700000., 60750000., 60800000., 60850000.,\n",
       "       60900000., 60950000.])"
      ]
     },
     "execution_count": 8,
     "metadata": {},
     "output_type": "execute_result"
    }
   ],
   "source": [
    "genomic_bin_matrix = np.loadtxt(\"genomic_bins.tsv\", delimiter=\"\\t\", dtype=float)\n",
    "genomic_bin_matrix"
   ]
  },
  {
   "cell_type": "code",
   "execution_count": 9,
   "id": "a462c554-561c-4af9-a012-f7a89670b69e",
   "metadata": {},
   "outputs": [
    {
     "data": {
      "text/plain": [
       "array([[25453.462891,  7385.57666 ,  3864.000732, ...,    98.430588,\n",
       "          110.254509,   109.298737],\n",
       "       [ 7385.57666 , 22676.990234,  6818.535156, ...,   124.43158 ,\n",
       "          101.644928,   113.254982],\n",
       "       [ 3864.000732,  6818.535156, 21942.046875, ...,   142.914429,\n",
       "          174.053329,   129.45993 ],\n",
       "       ...,\n",
       "       [   98.430588,   124.43158 ,   142.914429, ..., 25989.181641,\n",
       "         9879.811523,  6936.487793],\n",
       "       [  110.254509,   101.644928,   174.053329, ...,  9879.811523,\n",
       "        28731.753906,  9020.      ],\n",
       "       [  109.298737,   113.254982,   129.45993 , ...,  6936.487793,\n",
       "         9020.      , 22873.777344]])"
      ]
     },
     "execution_count": 9,
     "metadata": {},
     "output_type": "execute_result"
    }
   ],
   "source": [
    "gm_matrix = np.loadtxt(\"matrix_gm.tsv\", delimiter=\"\\t\", dtype=float)\n",
    "gm_matrix"
   ]
  },
  {
   "cell_type": "code",
   "execution_count": 10,
   "id": "9774a260-e37d-4e76-bf60-d8e23547bed1",
   "metadata": {},
   "outputs": [
    {
     "data": {
      "text/plain": [
       "array([[4908.682129, 1742.478638,  926.546997, ...,    9.351448,\n",
       "           8.802203,    8.167011],\n",
       "       [1742.478638, 4503.131348, 1641.403198, ...,   11.268626,\n",
       "          13.499537,    7.828358],\n",
       "       [ 926.546997, 1641.403198, 4285.756836, ...,    9.118051,\n",
       "           6.675289,   10.064569],\n",
       "       ...,\n",
       "       [   9.351448,   11.268626,    9.118051, ..., 5544.295898,\n",
       "        2241.30835 , 1217.54895 ],\n",
       "       [   8.802203,   13.499537,    6.675289, ..., 2241.30835 ,\n",
       "        6405.023438, 1906.459229],\n",
       "       [   8.167011,    7.828358,   10.064569, ..., 1217.54895 ,\n",
       "        1906.459229, 4465.26123 ]])"
      ]
     },
     "execution_count": 10,
     "metadata": {},
     "output_type": "execute_result"
    }
   ],
   "source": [
    "k562_matrix = np.loadtxt(\"matrix_k562.tsv\", delimiter=\"\\t\", dtype=float)\n",
    "k562_matrix"
   ]
  },
  {
   "cell_type": "code",
   "execution_count": 15,
   "id": "d3214160-6fed-4baf-9c9c-6c97f2c624a6",
   "metadata": {},
   "outputs": [
    {
     "data": {
      "text/plain": [
       "[{'TAD_name': 'TAD1', 'start': 58550000, 'end': 59800000},\n",
       " {'TAD_name': 'TAD2', 'start': 59850000, 'end': 60450000}]"
      ]
     },
     "execution_count": 15,
     "metadata": {},
     "output_type": "execute_result"
    }
   ],
   "source": [
    "tad_list: list = tads_df.to_dict(orient=\"records\")\n",
    "tad_list"
   ]
  },
  {
   "cell_type": "code",
   "execution_count": 16,
   "id": "7f745238-72f4-40ac-9c6d-3b2f4de06a8c",
   "metadata": {},
   "outputs": [
    {
     "data": {
      "text/plain": [
       "dict_values(['TAD1', 58550000, 59800000])"
      ]
     },
     "execution_count": 16,
     "metadata": {},
     "output_type": "execute_result"
    }
   ],
   "source": [
    "tad_list[0].values()"
   ]
  },
  {
   "cell_type": "code",
   "execution_count": 17,
   "id": "720d197f-2dc7-40eb-b082-b93684f51d0d",
   "metadata": {},
   "outputs": [
    {
     "data": {
      "text/plain": [
       "{'TAD1': (58550000, 59800000), 'TAD2': (59850000, 60450000)}"
      ]
     },
     "execution_count": 17,
     "metadata": {},
     "output_type": "execute_result"
    }
   ],
   "source": [
    "tad_dict = {}\n",
    "for row in tad_list:\n",
    "    row_values = list(row.values())\n",
    "    tad_dict[row_values[0]] = tuple(row_values[1:])\n",
    "tad_dict"
   ]
  },
  {
   "cell_type": "code",
   "execution_count": 56,
   "id": "f24c9128-f9e0-4168-9a31-de5ef6b1a170",
   "metadata": {},
   "outputs": [],
   "source": [
    "tad1_bins: list = []\n",
    "tad2_bins: list = []\n",
    "tad1_labels: list = []\n",
    "tad2_labels: list = []\n",
    "for index, genomic_bin in enumerate(genomic_bin_matrix):\n",
    "    tad1_intervals: tuple = tad_dict[\"TAD1\"]\n",
    "    tad2_intervals: tuple = tad_dict[\"TAD2\"]\n",
    "    if genomic_bin >= tad1_intervals[0] and genomic_bin <= tad1_intervals[1]:\n",
    "        tad1_bins.append(index)\n",
    "        tad1_labels.append(genomic_bin)\n",
    "    elif genomic_bin >= tad2_intervals[0] and genomic_bin <= tad2_intervals[1]:\n",
    "        tad2_bins.append(index)\n",
    "        tad2_labels.append(genomic_bin)\n",
    "    else:\n",
    "        continue"
   ]
  },
  {
   "cell_type": "code",
   "execution_count": 30,
   "id": "26fd0809-4975-45ae-ab8a-d84b5c87cf0b",
   "metadata": {},
   "outputs": [
    {
     "name": "stdout",
     "output_type": "stream",
     "text": [
      "[7, 8, 9, 10, 11, 12, 13, 14, 15, 16, 17, 18, 19, 20, 21, 22, 23, 24, 25, 26, 27, 28, 29, 30, 31, 32]\n",
      "[33, 34, 35, 36, 37, 38, 39, 40, 41, 42, 43, 44, 45]\n"
     ]
    }
   ],
   "source": [
    "print(tad1_bins)\n",
    "print(tad2_bins)"
   ]
  },
  {
   "cell_type": "code",
   "execution_count": 28,
   "id": "d1d9f4b0-ab97-4bfc-8358-2c77452e536c",
   "metadata": {},
   "outputs": [
    {
     "name": "stdout",
     "output_type": "stream",
     "text": [
      "26\n",
      "13\n"
     ]
    }
   ],
   "source": [
    "print(len(tad1_bins))\n",
    "print(len(tad2_bins))"
   ]
  },
  {
   "cell_type": "code",
   "execution_count": 32,
   "id": "801e2b24-3ea7-4975-ada4-c679b44b1f10",
   "metadata": {},
   "outputs": [],
   "source": [
    "tad1_genomic_bin_data_indices: tuple = tuple((min(tad1_bins), max(tad1_bins)))\n",
    "tad2_genomic_bin_data_indices: tuple = tuple((min(tad2_bins), max(tad2_bins)))"
   ]
  },
  {
   "cell_type": "code",
   "execution_count": 33,
   "id": "e4b10197-41a0-4f2a-90a6-f355c2f5dc00",
   "metadata": {},
   "outputs": [
    {
     "name": "stdout",
     "output_type": "stream",
     "text": [
      "(7, 32)\n",
      "(33, 45)\n"
     ]
    }
   ],
   "source": [
    "print(tad1_genomic_bin_data_indices)\n",
    "print(tad2_genomic_bin_data_indices)"
   ]
  },
  {
   "cell_type": "code",
   "execution_count": 38,
   "id": "3d824f13-71ad-489d-9f31-a24d76c5adb9",
   "metadata": {},
   "outputs": [
    {
     "data": {
      "text/plain": [
       "array([[223.319   , 229.085495, 309.554047, ...,   7.131474,  13.052311,\n",
       "         12.71594 ],\n",
       "       [179.06369 , 221.738541, 276.179199, ...,  21.391825,  18.152372,\n",
       "          8.91659 ],\n",
       "       [174.283981, 162.880676, 203.419418, ...,  15.319863,  14.420073,\n",
       "         16.724348],\n",
       "       ...,\n",
       "       [ 82.191086,  96.87384 ,  87.724968, ...,  20.795013,  17.462765,\n",
       "         16.825779],\n",
       "       [ 62.583744,  71.986374,  85.430458, ...,  22.633589,  20.712452,\n",
       "         22.100451],\n",
       "       [ 83.434044,  81.522255,  88.787025, ...,  20.54871 ,  23.753099,\n",
       "         21.488033]])"
      ]
     },
     "execution_count": 38,
     "metadata": {},
     "output_type": "execute_result"
    }
   ],
   "source": [
    "tad1_k562_data = []\n",
    "\n",
    "tad1_lower_bound = tad1_genomic_bin_data_indices[0]\n",
    "tad1_upper_bound = tad1_genomic_bin_data_indices[1]\n",
    "\n",
    "k562_reshape = pd.DataFrame(k562_matrix)\n",
    "tad1_k562_data = k562_reshape.loc[tad1_lower_bound : tad1_upper_bound + 1].to_numpy()\n",
    "tad1_k562_data"
   ]
  },
  {
   "cell_type": "code",
   "execution_count": 39,
   "id": "29f2b8fa-64b1-41ad-8e63-77c76f1610a8",
   "metadata": {},
   "outputs": [],
   "source": [
    "import matplotlib.pyplot as plt"
   ]
  },
  {
   "cell_type": "code",
   "execution_count": 40,
   "id": "c2b8ec25-3b75-438c-a0d8-00d0d8330c9a",
   "metadata": {},
   "outputs": [
    {
     "data": {
      "text/plain": [
       "283.508423"
      ]
     },
     "execution_count": 40,
     "metadata": {},
     "output_type": "execute_result"
    }
   ],
   "source": [
    "np.percentile(tad1_k562_data, 95)"
   ]
  },
  {
   "cell_type": "code",
   "execution_count": 43,
   "id": "88a3797d-0ff7-4311-b718-e9f295f3eee8",
   "metadata": {},
   "outputs": [
    {
     "data": {
      "image/png": "[encoded data removed]",
      "text/plain": [
       "<Figure size 640x480 with 1 Axes>"
      ]
     },
     "metadata": {},
     "output_type": "display_data"
    }
   ],
   "source": [
    "plt.pcolormesh(tad1_k562_data, cmap=\"hot\",)\n",
    "plt.show()"
   ]
  },
  {
   "cell_type": "code",
   "execution_count": 57,
   "id": "52224dda-4ca9-476b-ba70-affd8503c6ae",
   "metadata": {},
   "outputs": [
    {
     "data": {
      "text/plain": [
       "[58550000.0,\n",
       " 58600000.0,\n",
       " 58650000.0,\n",
       " 58700000.0,\n",
       " 58750000.0,\n",
       " 58800000.0,\n",
       " 58850000.0,\n",
       " 58900000.0,\n",
       " 58950000.0,\n",
       " 59000000.0,\n",
       " 59050000.0,\n",
       " 59100000.0,\n",
       " 59150000.0,\n",
       " 59200000.0,\n",
       " 59250000.0,\n",
       " 59300000.0,\n",
       " 59350000.0,\n",
       " 59400000.0,\n",
       " 59450000.0,\n",
       " 59500000.0,\n",
       " 59550000.0,\n",
       " 59600000.0,\n",
       " 59650000.0,\n",
       " 59700000.0,\n",
       " 59750000.0,\n",
       " 59800000.0]"
      ]
     },
     "execution_count": 57,
     "metadata": {},
     "output_type": "execute_result"
    }
   ],
   "source": [
    "tad1_labels"
   ]
  },
  {
   "cell_type": "code",
   "execution_count": 62,
   "id": "6a8915ab-c2df-4009-a6d5-dc84dc0b605b",
   "metadata": {},
   "outputs": [
    {
     "data": {
      "image/png": "[encoded data removed]",
      "text/plain": [
       "<Figure size 640x480 with 2 Axes>"
      ]
     },
     "metadata": {},
     "output_type": "display_data"
    }
   ],
   "source": [
    "ax = sns.heatmap(tad1_k562_data, vmin=0, vmax=np.percentile(tad1_k562_data, 95))\n",
    "ax.xaxis.tick_top()"
   ]
  },
  {
   "cell_type": "code",
   "execution_count": null,
   "id": "a0613b9d-80c4-46e1-adcb-d2547eaf1045",
   "metadata": {},
   "outputs": [],
   "source": []
  }
 ],
 "metadata": {
  "kernelspec": {
   "display_name": "Python 3 (ipykernel)",
   "language": "python",
   "name": "python3"
  },
  "language_info": {
   "codemirror_mode": {
    "name": "ipython",
    "version": 3
   },
   "file_extension": ".py",
   "mimetype": "text/x-python",
   "name": "python",
   "nbconvert_exporter": "python",
   "pygments_lexer": "ipython3",
   "version": "3.12.1"
  }
 },
 "nbformat": 4,
 "nbformat_minor": 5
}
